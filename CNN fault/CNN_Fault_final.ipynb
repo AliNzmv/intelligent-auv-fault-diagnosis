{
  "cells": [
    {
      "cell_type": "code",
      "execution_count": 1,
      "metadata": {
        "id": "H5Rk9-iI-V56"
      },
      "outputs": [],
      "source": [
        "import scipy.io\n",
        "import numpy as np\n",
        "import pandas as pd\n",
        "import os\n",
        "import matplotlib.pyplot as plt\n",
        "import tensorflow as tf\n",
        "from tensorflow.keras.models import Sequential\n",
        "from tensorflow.keras.layers import Conv2D, MaxPooling2D, Flatten, Dense, Dropout, Conv1D, MaxPooling1D,BatchNormalization\n",
        "from sklearn.model_selection import train_test_split\n",
        "from tensorflow.keras.utils import to_categorical\n",
        "from sklearn.metrics import confusion_matrix, classification_report\n",
        "import seaborn as sns\n",
        "from keras.layers import LSTM, Dense, Dropout\n",
        "from sklearn.preprocessing import StandardScaler\n",
        "from sklearn.model_selection import train_test_split\n",
        "from keras.models import Sequential\n",
        "from keras.layers import LSTM, Dense, Dropout\n",
        "from keras.regularizers import l2\n",
        "from keras.optimizers import Adam\n",
        "from keras.callbacks import EarlyStopping\n",
        "from keras.models import Sequential\n",
        "from keras.layers import Conv1D, MaxPooling1D, Flatten, Dense, Dropout, BatchNormalization, GlobalAveragePooling1D\n",
        "from keras.optimizers import Adam\n",
        "from keras.callbacks import EarlyStopping, ReduceLROnPlateau\n",
        "from tensorflow.keras.models import Model\n",
        "from tensorflow.keras.layers import (\n",
        "    Conv1D, LSTM, Dense, BatchNormalization,\n",
        "    Dropout, MaxPooling1D, Bidirectional,\n",
        "    Input, Add, Flatten, GlobalMaxPooling1D,\n",
        "    Multiply, Permute, Reshape, Activation,\n",
        "    SpatialDropout1D\n",
        ")\n",
        "from tensorflow.keras.layers import Lambda\n",
        "import tensorflow.keras.backend as K\n"
      ]
    },
    {
      "cell_type": "code",
      "execution_count": 2,
      "metadata": {
        "id": "5UOx_z2p3sez"
      },
      "outputs": [],
      "source": [
        "def add_gaussian_noise(data, mean=0, std_dev=0.1):\n",
        "    noise = np.random.normal(mean, std_dev, data.shape)\n",
        "    noisy_data = data + noise\n",
        "    return noisy_data"
      ]
    },
    {
      "cell_type": "code",
      "execution_count": 3,
      "metadata": {
        "id": "JAdSum04-jrN"
      },
      "outputs": [],
      "source": [
        "# Path to the folder containing Normal condition CSV files\n",
        "folder_path = 'E:\\\\ICF\\\\fault diagnoosis\\\\Dataset\\\\train\\\\Normal'\n",
        "\n",
        "# List to store all Normal CSV data\n",
        "normal_data = []\n",
        "\n",
        "# Read and append each CSV file to the list\n",
        "for i in range(50):\n",
        "    file_path = os.path.join(folder_path, f'Normal_{i}.csv')\n",
        "    df = pd.read_csv(file_path)\n",
        "    normal_data.append(df.values)  # Convert DataFrame to NumPy array\n",
        "\n",
        "# Path to the folder containing AddWeight condition CSV files\n",
        "folder_path = 'E:\\\\ICF\\\\fault diagnoosis\\\\Dataset\\\\train\\\\AddWeight'\n",
        "\n",
        "# List to store all AddWeight CSV data\n",
        "add_weight_dta = []\n",
        "\n",
        "# Read and append each CSV file to the list\n",
        "for i in range(50):\n",
        "    file_path = os.path.join(folder_path, f'AddWeight_{i}.csv')\n",
        "    df = pd.read_csv(file_path)\n",
        "    add_weight_dta.append(df.values)\n",
        "\n",
        "# Path to the folder containing PropellerDamage_slight CSV files\n",
        "folder_path = 'E:\\\\ICF\\\\fault diagnoosis\\\\Dataset\\\\train\\\\PropellerDamage_slight'\n",
        "\n",
        "# List to store all PropellerDamage_slight data\n",
        "PropellerDamage_slight_data = []\n",
        "\n",
        "# Read and append each CSV file to the list\n",
        "for i in range(50):\n",
        "    file_path = os.path.join(folder_path, f'PropellerDamage_slight_{i}.csv')\n",
        "    df = pd.read_csv(file_path)\n",
        "    PropellerDamage_slight_data.append(df.values)\n",
        "\n",
        "# Path to the folder containing PropellerDamage_bad CSV files\n",
        "folder_path = 'E:\\\\ICF\\\\fault diagnoosis\\\\Dataset\\\\train\\\\PropellerDamage_bad'\n",
        "\n",
        "# List to store all PropellerDamage_bad data\n",
        "PropellerDamage_bad_data = []\n",
        "\n",
        "# Read and append each CSV file to the list\n",
        "for i in range(50):\n",
        "    file_path = os.path.join(folder_path, f'PropellerDamage_bad_{i}.csv')\n",
        "    df = pd.read_csv(file_path)\n",
        "    PropellerDamage_bad_data.append(df.values)\n",
        "\n",
        "# Path to the folder containing PressureGain_constant CSV files\n",
        "folder_path = 'E:\\\\ICF\\\\fault diagnoosis\\\\Dataset\\\\train\\\\PressureGain_constant'\n",
        "\n",
        "# List to store all PressureGain_constant data\n",
        "PressureGain_constant_data = []\n",
        "\n",
        "# Read and append each CSV file to the list\n",
        "for i in range(50):\n",
        "    file_path = os.path.join(folder_path, f'PressureGain_constant_{i}.csv')\n",
        "    df = pd.read_csv(file_path)\n",
        "    PressureGain_constant_data.append(df.values)\n",
        "\n",
        "# Concatenate all CSV file data into one large NumPy array per class\n",
        "normal = np.concatenate(normal_data, axis=0)\n",
        "add_weight = np.concatenate(add_weight_dta, axis=0)\n",
        "PropellerDamage_slight = np.concatenate(PropellerDamage_slight_data, axis=0)\n",
        "PropellerDamage_bad = np.concatenate(PropellerDamage_bad_data, axis=0)\n",
        "PressureGain_constant = np.concatenate(PressureGain_constant_data, axis=0)\n"
      ]
    },
    {
      "cell_type": "code",
      "execution_count": 4,
      "metadata": {},
      "outputs": [],
      "source": [
        "# Path to the folder containing Normal condition CSV files\n",
        "folder_path = 'E:\\\\ICF\\\\fault diagnoosis\\\\Dataset\\\\train\\\\Normal'\n",
        "\n",
        "# List to store all Normal CSV data\n",
        "normal_data = []\n",
        "\n",
        "# Read and append each CSV file to the list\n",
        "for i in range(25):\n",
        "    file_path = os.path.join(folder_path, f'Normal_{i}.csv')\n",
        "    df = pd.read_csv(file_path)\n",
        "    normal_data.append(df.values)\n",
        "\n",
        "# Path to the folder containing AddWeight condition CSV files\n",
        "folder_path = 'E:\\\\ICF\\\\fault diagnoosis\\\\Dataset\\\\train\\\\AddWeight'\n",
        "\n",
        "# List to store all AddWeight CSV data\n",
        "add_weight_dta = []\n",
        "\n",
        "# Read and append each CSV file to the list\n",
        "for i in range(25):\n",
        "    file_path = os.path.join(folder_path, f'AddWeight_{i}.csv')\n",
        "    df = pd.read_csv(file_path)\n",
        "    add_weight_dta.append(df.values)\n",
        "\n",
        "# Path to the folder containing PropellerDamage_slight CSV files\n",
        "folder_path = 'E:\\\\ICF\\\\fault diagnoosis\\\\Dataset\\\\train\\\\PropellerDamage_slight'\n",
        "\n",
        "# List to store all PropellerDamage_slight data\n",
        "PropellerDamage_slight_data = []\n",
        "\n",
        "# Read and append each CSV file to the list\n",
        "for i in range(25):\n",
        "    file_path = os.path.join(folder_path, f'PropellerDamage_slight_{i}.csv')\n",
        "    df = pd.read_csv(file_path)\n",
        "    PropellerDamage_slight_data.append(df.values)\n",
        "\n",
        "# Path to the folder containing PropellerDamage_bad CSV files\n",
        "folder_path = 'E:\\\\ICF\\\\fault diagnoosis\\\\Dataset\\\\train\\\\PropellerDamage_bad'\n",
        "\n",
        "# List to store all PropellerDamage_bad data\n",
        "PropellerDamage_bad_data = []\n",
        "\n",
        "# Read and append each CSV file to the list\n",
        "for i in range(25):\n",
        "    file_path = os.path.join(folder_path, f'PropellerDamage_bad_{i}.csv')\n",
        "    df = pd.read_csv(file_path)\n",
        "    PropellerDamage_bad_data.append(df.values)\n",
        "\n",
        "# Path to the folder containing PressureGain_constant CSV files\n",
        "folder_path = 'E:\\\\ICF\\\\fault diagnoosis\\\\Dataset\\\\train\\\\PressureGain_constant'\n",
        "\n",
        "# List to store all PressureGain_constant data\n",
        "PressureGain_constant_data = []\n",
        "\n",
        "# Read and append each CSV file to the list\n",
        "for i in range(25):\n",
        "    file_path = os.path.join(folder_path, f'PressureGain_constant_{i}.csv')\n",
        "    df = pd.read_csv(file_path)\n",
        "    PressureGain_constant_data.append(df.values)\n",
        "\n",
        "# Concatenate all CSV file data into one large NumPy array per class\n",
        "normal_test = np.concatenate(normal_data, axis=0)\n",
        "add_weight_test = np.concatenate(add_weight_dta, axis=0)\n",
        "PropellerDamage_slight_test = np.concatenate(PropellerDamage_slight_data, axis=0)\n",
        "PropellerDamage_bad_test = np.concatenate(PropellerDamage_bad_data, axis=0)\n",
        "PressureGain_constant_test = np.concatenate(PressureGain_constant_data, axis=0)\n"
      ]
    },
    {
      "cell_type": "code",
      "execution_count": 5,
      "metadata": {
        "id": "PdvA9p3w_B0V"
      },
      "outputs": [],
      "source": [
        "def apply_1d_fft(data):\n",
        "    fft_result = np.fft.fft(data, axis=1)\n",
        "    magnitude_spectrum = np.abs(fft_result)\n",
        "    return magnitude_spectrum"
      ]
    },
    {
      "cell_type": "code",
      "execution_count": 6,
      "metadata": {
        "id": "d3nU4tRFFjD4"
      },
      "outputs": [],
      "source": [
        "def downsample(data):\n",
        "  return data[:, ::2, :]"
      ]
    },
    {
      "cell_type": "code",
      "execution_count": 7,
      "metadata": {
        "colab": {
          "base_uri": "https://localhost:8080/"
        },
        "id": "Vxm4f8s__ctb",
        "outputId": "eb41735e-db90-4082-9c21-54bbc9018d45"
      },
      "outputs": [
        {
          "name": "stdout",
          "output_type": "stream",
          "text": [
            "shape of fft_data: (49302, 17)\n",
            "shape of labels: (49302,)\n"
          ]
        }
      ],
      "source": [
        "# Merge FFT-transformed data from all classes into a single dataset\n",
        "fft_data = np.concatenate((normal, add_weight, PropellerDamage_slight, PropellerDamage_bad, PressureGain_constant))\n",
        "\n",
        "# Create corresponding labels for each class\n",
        "labels_normal = np.zeros(normal.shape[0])\n",
        "labels_add = np.ones(add_weight.shape[0])\n",
        "labels_slight = np.full(PropellerDamage_slight.shape[0], 2)\n",
        "labels_bad = np.full(PropellerDamage_bad.shape[0], 3)\n",
        "labels_pressure = np.full(PressureGain_constant.shape[0], 4)\n",
        "\n",
        "# Concatenate all label arrays into a single label vector\n",
        "labels = np.concatenate([\n",
        "    labels_normal,\n",
        "    labels_add,\n",
        "    labels_slight,\n",
        "    labels_bad,\n",
        "    labels_pressure\n",
        "])\n",
        "\n",
        "# Print the shapes of the final dataset and label array\n",
        "print(\"shape of fft_data:\", fft_data.shape)\n",
        "print(\"shape of labels:\", labels.shape)\n"
      ]
    },
    {
      "cell_type": "code",
      "execution_count": 8,
      "metadata": {},
      "outputs": [],
      "source": [
        "testx = np.concatenate((normal_test, add_weight_test, PropellerDamage_slight_test, PropellerDamage_bad_test, PressureGain_constant_test))\n",
        "labels_normal = np.zeros(normal_test.shape[0])\n",
        "labels_add = np.ones(add_weight_test.shape[0])\n",
        "labels_slight = np.full(PropellerDamage_slight_test.shape[0], 2)\n",
        "labels_bad = np.full(PropellerDamage_bad_test.shape[0], 3)\n",
        "labels_pressure = np.full(PressureGain_constant_test.shape[0], 4)\n",
        "ylabels = np.concatenate([\n",
        "    labels_normal,\n",
        "    labels_add,\n",
        "    labels_slight,\n",
        "    labels_bad,\n",
        "    labels_pressure\n",
        "])"
      ]
    },
    {
      "cell_type": "code",
      "execution_count": 9,
      "metadata": {
        "colab": {
          "base_uri": "https://localhost:8080/"
        },
        "id": "ck6S4BkWRuUH",
        "outputId": "4c29d7d4-619e-4490-c414-c5e71228739d"
      },
      "outputs": [
        {
          "name": "stdout",
          "output_type": "stream",
          "text": [
            "shape X_train (39441, 17, 1) shape X_val (9861, 17, 1)\n",
            "shape y_train (39441,) shape y_val (9861,)\n"
          ]
        }
      ],
      "source": [
        "# Split the data into training and validation sets with stratified sampling\n",
        "X_train, X_val, y_train, y_val = train_test_split(fft_data, labels, test_size=0.2, stratify=labels, random_state=42)\n",
        "\n",
        "# Apply Gaussian noise to training and validation sets\n",
        "X_train = add_gaussian_noise(X_train)\n",
        "X_val = add_gaussian_noise(X_val)\n",
        "\n",
        "# Standardize the datasets using StandardScaler\n",
        "scaler = StandardScaler()\n",
        "X_train = scaler.fit_transform(X_train.reshape(-1, X_train.shape[-1])).reshape(X_train.shape)\n",
        "X_val = scaler.transform(X_val.reshape(-1, X_val.shape[-1])).reshape(X_val.shape)\n",
        "X_test = scaler.transform(testx.reshape(-1, testx.shape[-1])).reshape(testx.shape)\n",
        "y_test = ylabels\n",
        "\n",
        "# Define a function to add Gaussian noise\n",
        "def add_gaussian_noise(data, mean=0, std_dev=0.1):\n",
        "    noise = np.random.normal(mean, std_dev, data.shape)\n",
        "    return data + noise\n",
        "\n",
        "# Add small Gaussian noise to training and validation sets after standardization\n",
        "X_train = add_gaussian_noise(X_train, std_dev=0.03)\n",
        "X_val = add_gaussian_noise(X_val, std_dev=0.03)\n",
        "\n",
        "# Reshape the input data to fit LSTM input shape: (samples, time steps, features)\n",
        "X_train = X_train.reshape((X_train.shape[0], 17, 1))\n",
        "X_val = X_val.reshape((X_val.shape[0], 17, 1))\n",
        "X_test = X_test.reshape((X_test.shape[0], 17, 1))\n",
        "\n",
        "\n",
        "# Print the shapes of the processed datasets\n",
        "print(\"shape X_train\", X_train.shape, \"shape X_val\", X_val.shape)\n",
        "print(\"shape y_train\", y_train.shape, \"shape y_val\", y_val.shape)\n"
      ]
    },
    {
      "cell_type": "code",
      "execution_count": 10,
      "metadata": {},
      "outputs": [
        {
          "name": "stdout",
          "output_type": "stream",
          "text": [
            "Shapes - Train: (39441, 17, 1), Val: (9861, 17, 1), Test: (24693, 17, 1)\n"
          ]
        }
      ],
      "source": [
        "print(f\"Shapes - Train: {X_train.shape}, Val: {X_val.shape}, Test: {X_test.shape}\")\n"
      ]
    },
    {
      "cell_type": "markdown",
      "metadata": {},
      "source": [
        "## Model Structure"
      ]
    },
    {
      "cell_type": "code",
      "execution_count": 11,
      "metadata": {
        "id": "t3tWzDNbRuGc"
      },
      "outputs": [],
      "source": [
        "# Define a residual block for deeper learning\n",
        "def residual_block(x, filters, kernel_size=3):\n",
        "    shortcut = x\n",
        "    x = Conv1D(filters, kernel_size, padding='same', activation='relu')(x)\n",
        "    x = BatchNormalization()(x)\n",
        "    x = SpatialDropout1D(0.2)(x)\n",
        "    x = Conv1D(filters, kernel_size, padding='same', activation='relu')(x)\n",
        "    x = BatchNormalization()(x)\n",
        "    x = Add()([shortcut, x])  # Residual connection\n",
        "    return x\n",
        "\n",
        "# Input layer\n",
        "input_layer = Input(shape=(17, 1))\n",
        "\n",
        "# Initial convolutional block\n",
        "x = Conv1D(64, 5, padding='same', activation='relu')(input_layer)\n",
        "x = BatchNormalization()(x)\n",
        "x = MaxPooling1D(2)(x)\n",
        "x = SpatialDropout1D(0.3)(x)\n",
        "\n",
        "# Add residual blocks\n",
        "for _ in range(2):\n",
        "    x = residual_block(x, 64)\n",
        "\n",
        "\n",
        "\n",
        "\n",
        "# Fully connected dense layers\n",
        "x = Flatten()(x)\n",
        "x = Dense(128, activation='relu', kernel_regularizer='l2')(x)\n",
        "x = BatchNormalization()(x)\n",
        "x = Dropout(0.6)(x)\n",
        "x = Dense(64, activation='relu', kernel_regularizer='l2')(x)\n",
        "x = BatchNormalization()(x)\n",
        "x = Dropout(0.5)(x)\n",
        "\n",
        "# Output layer with softmax activation for multi-class classification\n",
        "output_layer = Dense(5, activation='softmax')(x)\n",
        "\n",
        "# Define the model\n",
        "model = Model(inputs=input_layer, outputs=output_layer)\n"
      ]
    },
    {
      "cell_type": "code",
      "execution_count": 12,
      "metadata": {},
      "outputs": [],
      "source": [
        "# Define optimizer\n",
        "optimizer = Adam(learning_rate=0.001)\n",
        "\n",
        "# Early stopping to prevent overfitting; restores best weights after stopping\n",
        "early_stop = EarlyStopping(monitor='val_loss', patience=10, restore_best_weights=True)\n",
        "\n",
        "# Reduce learning rate when a metric has stopped improving\n",
        "reduce_lr = ReduceLROnPlateau(monitor='val_loss', factor=0.2, patience=10)\n",
        "\n",
        "# Compile the model with sparse categorical crossentropy and accuracy metric\n",
        "model.compile(\n",
        "    optimizer=optimizer,\n",
        "    loss='sparse_categorical_crossentropy',\n",
        "    metrics=['accuracy']\n",
        ")\n"
      ]
    },
    {
      "cell_type": "code",
      "execution_count": 13,
      "metadata": {},
      "outputs": [
        {
          "name": "stdout",
          "output_type": "stream",
          "text": [
            "Epoch 1/100\n",
            "\u001b[1m1233/1233\u001b[0m \u001b[32m━━━━━━━━━━━━━━━━━━━━\u001b[0m\u001b[37m\u001b[0m \u001b[1m17s\u001b[0m 10ms/step - accuracy: 0.5557 - loss: 3.1704 - val_accuracy: 0.8138 - val_loss: 0.8074 - learning_rate: 0.0010\n",
            "Epoch 2/100\n",
            "\u001b[1m1233/1233\u001b[0m \u001b[32m━━━━━━━━━━━━━━━━━━━━\u001b[0m\u001b[37m\u001b[0m \u001b[1m12s\u001b[0m 10ms/step - accuracy: 0.7536 - loss: 0.8754 - val_accuracy: 0.8298 - val_loss: 0.5854 - learning_rate: 0.0010\n",
            "Epoch 3/100\n",
            "\u001b[1m1233/1233\u001b[0m \u001b[32m━━━━━━━━━━━━━━━━━━━━\u001b[0m\u001b[37m\u001b[0m \u001b[1m12s\u001b[0m 10ms/step - accuracy: 0.7877 - loss: 0.7022 - val_accuracy: 0.8407 - val_loss: 0.5561 - learning_rate: 0.0010\n",
            "Epoch 4/100\n",
            "\u001b[1m1233/1233\u001b[0m \u001b[32m━━━━━━━━━━━━━━━━━━━━\u001b[0m\u001b[37m\u001b[0m \u001b[1m12s\u001b[0m 10ms/step - accuracy: 0.8023 - loss: 0.6783 - val_accuracy: 0.8660 - val_loss: 0.5008 - learning_rate: 0.0010\n",
            "Epoch 5/100\n",
            "\u001b[1m1233/1233\u001b[0m \u001b[32m━━━━━━━━━━━━━━━━━━━━\u001b[0m\u001b[37m\u001b[0m \u001b[1m12s\u001b[0m 10ms/step - accuracy: 0.8151 - loss: 0.6372 - val_accuracy: 0.8563 - val_loss: 0.5133 - learning_rate: 0.0010\n",
            "Epoch 6/100\n",
            "\u001b[1m1233/1233\u001b[0m \u001b[32m━━━━━━━━━━━━━━━━━━━━\u001b[0m\u001b[37m\u001b[0m \u001b[1m11s\u001b[0m 9ms/step - accuracy: 0.8234 - loss: 0.6141 - val_accuracy: 0.8774 - val_loss: 0.4760 - learning_rate: 0.0010\n",
            "Epoch 7/100\n",
            "\u001b[1m1233/1233\u001b[0m \u001b[32m━━━━━━━━━━━━━━━━━━━━\u001b[0m\u001b[37m\u001b[0m \u001b[1m13s\u001b[0m 10ms/step - accuracy: 0.8389 - loss: 0.5924 - val_accuracy: 0.8749 - val_loss: 0.4629 - learning_rate: 0.0010\n",
            "Epoch 8/100\n",
            "\u001b[1m1233/1233\u001b[0m \u001b[32m━━━━━━━━━━━━━━━━━━━━\u001b[0m\u001b[37m\u001b[0m \u001b[1m14s\u001b[0m 11ms/step - accuracy: 0.8367 - loss: 0.5777 - val_accuracy: 0.8732 - val_loss: 0.4674 - learning_rate: 0.0010\n",
            "Epoch 9/100\n",
            "\u001b[1m1233/1233\u001b[0m \u001b[32m━━━━━━━━━━━━━━━━━━━━\u001b[0m\u001b[37m\u001b[0m \u001b[1m13s\u001b[0m 10ms/step - accuracy: 0.8452 - loss: 0.5675 - val_accuracy: 0.8895 - val_loss: 0.4446 - learning_rate: 0.0010\n",
            "Epoch 10/100\n",
            "\u001b[1m1233/1233\u001b[0m \u001b[32m━━━━━━━━━━━━━━━━━━━━\u001b[0m\u001b[37m\u001b[0m \u001b[1m13s\u001b[0m 10ms/step - accuracy: 0.8551 - loss: 0.5453 - val_accuracy: 0.8955 - val_loss: 0.4139 - learning_rate: 0.0010\n",
            "Epoch 11/100\n",
            "\u001b[1m1233/1233\u001b[0m \u001b[32m━━━━━━━━━━━━━━━━━━━━\u001b[0m\u001b[37m\u001b[0m \u001b[1m13s\u001b[0m 10ms/step - accuracy: 0.8521 - loss: 0.5458 - val_accuracy: 0.8916 - val_loss: 0.4417 - learning_rate: 0.0010\n",
            "Epoch 12/100\n",
            "\u001b[1m1233/1233\u001b[0m \u001b[32m━━━━━━━━━━━━━━━━━━━━\u001b[0m\u001b[37m\u001b[0m \u001b[1m13s\u001b[0m 11ms/step - accuracy: 0.8585 - loss: 0.5373 - val_accuracy: 0.8974 - val_loss: 0.4079 - learning_rate: 0.0010\n",
            "Epoch 13/100\n",
            "\u001b[1m1233/1233\u001b[0m \u001b[32m━━━━━━━━━━━━━━━━━━━━\u001b[0m\u001b[37m\u001b[0m \u001b[1m13s\u001b[0m 11ms/step - accuracy: 0.8613 - loss: 0.5201 - val_accuracy: 0.8949 - val_loss: 0.4377 - learning_rate: 0.0010\n",
            "Epoch 14/100\n",
            "\u001b[1m1233/1233\u001b[0m \u001b[32m━━━━━━━━━━━━━━━━━━━━\u001b[0m\u001b[37m\u001b[0m \u001b[1m13s\u001b[0m 10ms/step - accuracy: 0.8645 - loss: 0.5117 - val_accuracy: 0.9028 - val_loss: 0.3976 - learning_rate: 0.0010\n",
            "Epoch 15/100\n",
            "\u001b[1m1233/1233\u001b[0m \u001b[32m━━━━━━━━━━━━━━━━━━━━\u001b[0m\u001b[37m\u001b[0m \u001b[1m13s\u001b[0m 11ms/step - accuracy: 0.8698 - loss: 0.4944 - val_accuracy: 0.8978 - val_loss: 0.4201 - learning_rate: 0.0010\n",
            "Epoch 16/100\n",
            "\u001b[1m1233/1233\u001b[0m \u001b[32m━━━━━━━━━━━━━━━━━━━━\u001b[0m\u001b[37m\u001b[0m \u001b[1m13s\u001b[0m 11ms/step - accuracy: 0.8707 - loss: 0.4997 - val_accuracy: 0.8902 - val_loss: 0.4373 - learning_rate: 0.0010\n",
            "Epoch 17/100\n",
            "\u001b[1m1233/1233\u001b[0m \u001b[32m━━━━━━━━━━━━━━━━━━━━\u001b[0m\u001b[37m\u001b[0m \u001b[1m13s\u001b[0m 10ms/step - accuracy: 0.8712 - loss: 0.5000 - val_accuracy: 0.9073 - val_loss: 0.3825 - learning_rate: 0.0010\n",
            "Epoch 18/100\n",
            "\u001b[1m1233/1233\u001b[0m \u001b[32m━━━━━━━━━━━━━━━━━━━━\u001b[0m\u001b[37m\u001b[0m \u001b[1m13s\u001b[0m 11ms/step - accuracy: 0.8814 - loss: 0.4719 - val_accuracy: 0.9075 - val_loss: 0.3779 - learning_rate: 0.0010\n",
            "Epoch 19/100\n",
            "\u001b[1m1233/1233\u001b[0m \u001b[32m━━━━━━━━━━━━━━━━━━━━\u001b[0m\u001b[37m\u001b[0m \u001b[1m13s\u001b[0m 11ms/step - accuracy: 0.8763 - loss: 0.4811 - val_accuracy: 0.9076 - val_loss: 0.3751 - learning_rate: 0.0010\n",
            "Epoch 20/100\n",
            "\u001b[1m1233/1233\u001b[0m \u001b[32m━━━━━━━━━━━━━━━━━━━━\u001b[0m\u001b[37m\u001b[0m \u001b[1m13s\u001b[0m 11ms/step - accuracy: 0.8783 - loss: 0.4685 - val_accuracy: 0.9074 - val_loss: 0.3744 - learning_rate: 0.0010\n",
            "Epoch 21/100\n",
            "\u001b[1m1233/1233\u001b[0m \u001b[32m━━━━━━━━━━━━━━━━━━━━\u001b[0m\u001b[37m\u001b[0m \u001b[1m13s\u001b[0m 11ms/step - accuracy: 0.8822 - loss: 0.4605 - val_accuracy: 0.9074 - val_loss: 0.3816 - learning_rate: 0.0010\n",
            "Epoch 22/100\n",
            "\u001b[1m1233/1233\u001b[0m \u001b[32m━━━━━━━━━━━━━━━━━━━━\u001b[0m\u001b[37m\u001b[0m \u001b[1m14s\u001b[0m 11ms/step - accuracy: 0.8788 - loss: 0.4729 - val_accuracy: 0.9085 - val_loss: 0.3702 - learning_rate: 0.0010\n",
            "Epoch 23/100\n",
            "\u001b[1m1233/1233\u001b[0m \u001b[32m━━━━━━━━━━━━━━━━━━━━\u001b[0m\u001b[37m\u001b[0m \u001b[1m14s\u001b[0m 11ms/step - accuracy: 0.8829 - loss: 0.4569 - val_accuracy: 0.9080 - val_loss: 0.3944 - learning_rate: 0.0010\n",
            "Epoch 24/100\n",
            "\u001b[1m1233/1233\u001b[0m \u001b[32m━━━━━━━━━━━━━━━━━━━━\u001b[0m\u001b[37m\u001b[0m \u001b[1m14s\u001b[0m 11ms/step - accuracy: 0.8870 - loss: 0.4523 - val_accuracy: 0.9168 - val_loss: 0.3464 - learning_rate: 0.0010\n",
            "Epoch 25/100\n",
            "\u001b[1m1233/1233\u001b[0m \u001b[32m━━━━━━━━━━━━━━━━━━━━\u001b[0m\u001b[37m\u001b[0m \u001b[1m13s\u001b[0m 11ms/step - accuracy: 0.8833 - loss: 0.4531 - val_accuracy: 0.9067 - val_loss: 0.3691 - learning_rate: 0.0010\n",
            "Epoch 26/100\n",
            "\u001b[1m1233/1233\u001b[0m \u001b[32m━━━━━━━━━━━━━━━━━━━━\u001b[0m\u001b[37m\u001b[0m \u001b[1m13s\u001b[0m 11ms/step - accuracy: 0.8884 - loss: 0.4476 - val_accuracy: 0.9131 - val_loss: 0.3672 - learning_rate: 0.0010\n",
            "Epoch 27/100\n",
            "\u001b[1m1233/1233\u001b[0m \u001b[32m━━━━━━━━━━━━━━━━━━━━\u001b[0m\u001b[37m\u001b[0m \u001b[1m13s\u001b[0m 11ms/step - accuracy: 0.8913 - loss: 0.4393 - val_accuracy: 0.9145 - val_loss: 0.3499 - learning_rate: 0.0010\n",
            "Epoch 28/100\n",
            "\u001b[1m1233/1233\u001b[0m \u001b[32m━━━━━━━━━━━━━━━━━━━━\u001b[0m\u001b[37m\u001b[0m \u001b[1m14s\u001b[0m 11ms/step - accuracy: 0.8854 - loss: 0.4436 - val_accuracy: 0.9117 - val_loss: 0.3642 - learning_rate: 0.0010\n",
            "Epoch 29/100\n",
            "\u001b[1m1233/1233\u001b[0m \u001b[32m━━━━━━━━━━━━━━━━━━━━\u001b[0m\u001b[37m\u001b[0m \u001b[1m13s\u001b[0m 11ms/step - accuracy: 0.8880 - loss: 0.4499 - val_accuracy: 0.9099 - val_loss: 0.3629 - learning_rate: 0.0010\n",
            "Epoch 30/100\n",
            "\u001b[1m1233/1233\u001b[0m \u001b[32m━━━━━━━━━━━━━━━━━━━━\u001b[0m\u001b[37m\u001b[0m \u001b[1m14s\u001b[0m 11ms/step - accuracy: 0.8929 - loss: 0.4365 - val_accuracy: 0.9209 - val_loss: 0.3397 - learning_rate: 0.0010\n",
            "Epoch 31/100\n",
            "\u001b[1m1233/1233\u001b[0m \u001b[32m━━━━━━━━━━━━━━━━━━━━\u001b[0m\u001b[37m\u001b[0m \u001b[1m14s\u001b[0m 11ms/step - accuracy: 0.8918 - loss: 0.4303 - val_accuracy: 0.9206 - val_loss: 0.3350 - learning_rate: 0.0010\n",
            "Epoch 32/100\n",
            "\u001b[1m1233/1233\u001b[0m \u001b[32m━━━━━━━━━━━━━━━━━━━━\u001b[0m\u001b[37m\u001b[0m \u001b[1m13s\u001b[0m 11ms/step - accuracy: 0.8913 - loss: 0.4338 - val_accuracy: 0.9186 - val_loss: 0.3387 - learning_rate: 0.0010\n",
            "Epoch 33/100\n",
            "\u001b[1m1233/1233\u001b[0m \u001b[32m━━━━━━━━━━━━━━━━━━━━\u001b[0m\u001b[37m\u001b[0m \u001b[1m14s\u001b[0m 11ms/step - accuracy: 0.8925 - loss: 0.4305 - val_accuracy: 0.9152 - val_loss: 0.3596 - learning_rate: 0.0010\n",
            "Epoch 34/100\n",
            "\u001b[1m1233/1233\u001b[0m \u001b[32m━━━━━━━━━━━━━━━━━━━━\u001b[0m\u001b[37m\u001b[0m \u001b[1m13s\u001b[0m 11ms/step - accuracy: 0.8959 - loss: 0.4191 - val_accuracy: 0.9114 - val_loss: 0.3663 - learning_rate: 0.0010\n",
            "Epoch 35/100\n",
            "\u001b[1m1233/1233\u001b[0m \u001b[32m━━━━━━━━━━━━━━━━━━━━\u001b[0m\u001b[37m\u001b[0m \u001b[1m14s\u001b[0m 11ms/step - accuracy: 0.8974 - loss: 0.4156 - val_accuracy: 0.9201 - val_loss: 0.3554 - learning_rate: 0.0010\n",
            "Epoch 36/100\n",
            "\u001b[1m1233/1233\u001b[0m \u001b[32m━━━━━━━━━━━━━━━━━━━━\u001b[0m\u001b[37m\u001b[0m \u001b[1m14s\u001b[0m 11ms/step - accuracy: 0.8966 - loss: 0.4202 - val_accuracy: 0.9232 - val_loss: 0.3208 - learning_rate: 0.0010\n",
            "Epoch 37/100\n",
            "\u001b[1m1233/1233\u001b[0m \u001b[32m━━━━━━━━━━━━━━━━━━━━\u001b[0m\u001b[37m\u001b[0m \u001b[1m14s\u001b[0m 11ms/step - accuracy: 0.8953 - loss: 0.4184 - val_accuracy: 0.9217 - val_loss: 0.3334 - learning_rate: 0.0010\n",
            "Epoch 38/100\n",
            "\u001b[1m1233/1233\u001b[0m \u001b[32m━━━━━━━━━━━━━━━━━━━━\u001b[0m\u001b[37m\u001b[0m \u001b[1m14s\u001b[0m 11ms/step - accuracy: 0.9010 - loss: 0.4090 - val_accuracy: 0.9211 - val_loss: 0.3302 - learning_rate: 0.0010\n",
            "Epoch 39/100\n",
            "\u001b[1m1233/1233\u001b[0m \u001b[32m━━━━━━━━━━━━━━━━━━━━\u001b[0m\u001b[37m\u001b[0m \u001b[1m14s\u001b[0m 11ms/step - accuracy: 0.8939 - loss: 0.4175 - val_accuracy: 0.9229 - val_loss: 0.3215 - learning_rate: 0.0010\n",
            "Epoch 40/100\n",
            "\u001b[1m1233/1233\u001b[0m \u001b[32m━━━━━━━━━━━━━━━━━━━━\u001b[0m\u001b[37m\u001b[0m \u001b[1m14s\u001b[0m 11ms/step - accuracy: 0.8999 - loss: 0.4072 - val_accuracy: 0.9231 - val_loss: 0.3232 - learning_rate: 0.0010\n",
            "Epoch 41/100\n",
            "\u001b[1m1233/1233\u001b[0m \u001b[32m━━━━━━━━━━━━━━━━━━━━\u001b[0m\u001b[37m\u001b[0m \u001b[1m14s\u001b[0m 11ms/step - accuracy: 0.9018 - loss: 0.4040 - val_accuracy: 0.9234 - val_loss: 0.3242 - learning_rate: 0.0010\n",
            "Epoch 42/100\n",
            "\u001b[1m1233/1233\u001b[0m \u001b[32m━━━━━━━━━━━━━━━━━━━━\u001b[0m\u001b[37m\u001b[0m \u001b[1m14s\u001b[0m 11ms/step - accuracy: 0.9001 - loss: 0.4050 - val_accuracy: 0.9238 - val_loss: 0.3220 - learning_rate: 0.0010\n",
            "Epoch 43/100\n",
            "\u001b[1m1233/1233\u001b[0m \u001b[32m━━━━━━━━━━━━━━━━━━━━\u001b[0m\u001b[37m\u001b[0m \u001b[1m14s\u001b[0m 11ms/step - accuracy: 0.9022 - loss: 0.4032 - val_accuracy: 0.9223 - val_loss: 0.3379 - learning_rate: 0.0010\n",
            "Epoch 44/100\n",
            "\u001b[1m1233/1233\u001b[0m \u001b[32m━━━━━━━━━━━━━━━━━━━━\u001b[0m\u001b[37m\u001b[0m \u001b[1m14s\u001b[0m 11ms/step - accuracy: 0.9036 - loss: 0.4007 - val_accuracy: 0.9218 - val_loss: 0.3318 - learning_rate: 0.0010\n",
            "Epoch 45/100\n",
            "\u001b[1m1233/1233\u001b[0m \u001b[32m━━━━━━━━━━━━━━━━━━━━\u001b[0m\u001b[37m\u001b[0m \u001b[1m14s\u001b[0m 11ms/step - accuracy: 0.8991 - loss: 0.4087 - val_accuracy: 0.9281 - val_loss: 0.3179 - learning_rate: 0.0010\n",
            "Epoch 46/100\n",
            "\u001b[1m1233/1233\u001b[0m \u001b[32m━━━━━━━━━━━━━━━━━━━━\u001b[0m\u001b[37m\u001b[0m \u001b[1m13s\u001b[0m 11ms/step - accuracy: 0.9033 - loss: 0.3967 - val_accuracy: 0.9255 - val_loss: 0.3108 - learning_rate: 0.0010\n",
            "Epoch 47/100\n",
            "\u001b[1m1233/1233\u001b[0m \u001b[32m━━━━━━━━━━━━━━━━━━━━\u001b[0m\u001b[37m\u001b[0m \u001b[1m14s\u001b[0m 11ms/step - accuracy: 0.9029 - loss: 0.3927 - val_accuracy: 0.9285 - val_loss: 0.3168 - learning_rate: 0.0010\n",
            "Epoch 48/100\n",
            "\u001b[1m1233/1233\u001b[0m \u001b[32m━━━━━━━━━━━━━━━━━━━━\u001b[0m\u001b[37m\u001b[0m \u001b[1m14s\u001b[0m 11ms/step - accuracy: 0.8959 - loss: 0.4168 - val_accuracy: 0.9248 - val_loss: 0.3164 - learning_rate: 0.0010\n",
            "Epoch 49/100\n",
            "\u001b[1m1233/1233\u001b[0m \u001b[32m━━━━━━━━━━━━━━━━━━━━\u001b[0m\u001b[37m\u001b[0m \u001b[1m14s\u001b[0m 11ms/step - accuracy: 0.8998 - loss: 0.4012 - val_accuracy: 0.9285 - val_loss: 0.3144 - learning_rate: 0.0010\n",
            "Epoch 50/100\n",
            "\u001b[1m1233/1233\u001b[0m \u001b[32m━━━━━━━━━━━━━━━━━━━━\u001b[0m\u001b[37m\u001b[0m \u001b[1m14s\u001b[0m 11ms/step - accuracy: 0.9044 - loss: 0.3940 - val_accuracy: 0.9267 - val_loss: 0.3198 - learning_rate: 0.0010\n",
            "Epoch 51/100\n",
            "\u001b[1m1233/1233\u001b[0m \u001b[32m━━━━━━━━━━━━━━━━━━━━\u001b[0m\u001b[37m\u001b[0m \u001b[1m14s\u001b[0m 11ms/step - accuracy: 0.9064 - loss: 0.3855 - val_accuracy: 0.8668 - val_loss: 0.4698 - learning_rate: 0.0010\n",
            "Epoch 52/100\n",
            "\u001b[1m1233/1233\u001b[0m \u001b[32m━━━━━━━━━━━━━━━━━━━━\u001b[0m\u001b[37m\u001b[0m \u001b[1m14s\u001b[0m 11ms/step - accuracy: 0.9053 - loss: 0.3953 - val_accuracy: 0.9283 - val_loss: 0.3046 - learning_rate: 0.0010\n",
            "Epoch 53/100\n",
            "\u001b[1m1233/1233\u001b[0m \u001b[32m━━━━━━━━━━━━━━━━━━━━\u001b[0m\u001b[37m\u001b[0m \u001b[1m15s\u001b[0m 12ms/step - accuracy: 0.9038 - loss: 0.3987 - val_accuracy: 0.9299 - val_loss: 0.3040 - learning_rate: 0.0010\n",
            "Epoch 54/100\n",
            "\u001b[1m1233/1233\u001b[0m \u001b[32m━━━━━━━━━━━━━━━━━━━━\u001b[0m\u001b[37m\u001b[0m \u001b[1m14s\u001b[0m 11ms/step - accuracy: 0.9045 - loss: 0.3911 - val_accuracy: 0.9295 - val_loss: 0.3103 - learning_rate: 0.0010\n",
            "Epoch 55/100\n",
            "\u001b[1m1233/1233\u001b[0m \u001b[32m━━━━━━━━━━━━━━━━━━━━\u001b[0m\u001b[37m\u001b[0m \u001b[1m14s\u001b[0m 11ms/step - accuracy: 0.9038 - loss: 0.3903 - val_accuracy: 0.9274 - val_loss: 0.3070 - learning_rate: 0.0010\n",
            "Epoch 56/100\n",
            "\u001b[1m1233/1233\u001b[0m \u001b[32m━━━━━━━━━━━━━━━━━━━━\u001b[0m\u001b[37m\u001b[0m \u001b[1m14s\u001b[0m 11ms/step - accuracy: 0.9063 - loss: 0.3874 - val_accuracy: 0.9305 - val_loss: 0.3097 - learning_rate: 0.0010\n",
            "Epoch 57/100\n",
            "\u001b[1m1233/1233\u001b[0m \u001b[32m━━━━━━━━━━━━━━━━━━━━\u001b[0m\u001b[37m\u001b[0m \u001b[1m14s\u001b[0m 11ms/step - accuracy: 0.9046 - loss: 0.3968 - val_accuracy: 0.9283 - val_loss: 0.3040 - learning_rate: 0.0010\n",
            "Epoch 58/100\n",
            "\u001b[1m1233/1233\u001b[0m \u001b[32m━━━━━━━━━━━━━━━━━━━━\u001b[0m\u001b[37m\u001b[0m \u001b[1m14s\u001b[0m 11ms/step - accuracy: 0.9057 - loss: 0.3955 - val_accuracy: 0.9278 - val_loss: 0.3038 - learning_rate: 0.0010\n",
            "Epoch 59/100\n",
            "\u001b[1m1233/1233\u001b[0m \u001b[32m━━━━━━━━━━━━━━━━━━━━\u001b[0m\u001b[37m\u001b[0m \u001b[1m14s\u001b[0m 11ms/step - accuracy: 0.9076 - loss: 0.3779 - val_accuracy: 0.9296 - val_loss: 0.3133 - learning_rate: 0.0010\n",
            "Epoch 60/100\n",
            "\u001b[1m1233/1233\u001b[0m \u001b[32m━━━━━━━━━━━━━━━━━━━━\u001b[0m\u001b[37m\u001b[0m \u001b[1m13s\u001b[0m 11ms/step - accuracy: 0.9127 - loss: 0.3639 - val_accuracy: 0.9289 - val_loss: 0.3079 - learning_rate: 0.0010\n",
            "Epoch 61/100\n",
            "\u001b[1m1233/1233\u001b[0m \u001b[32m━━━━━━━━━━━━━━━━━━━━\u001b[0m\u001b[37m\u001b[0m \u001b[1m14s\u001b[0m 11ms/step - accuracy: 0.9102 - loss: 0.3763 - val_accuracy: 0.9297 - val_loss: 0.3214 - learning_rate: 0.0010\n",
            "Epoch 62/100\n",
            "\u001b[1m1233/1233\u001b[0m \u001b[32m━━━━━━━━━━━━━━━━━━━━\u001b[0m\u001b[37m\u001b[0m \u001b[1m14s\u001b[0m 11ms/step - accuracy: 0.9092 - loss: 0.3813 - val_accuracy: 0.9331 - val_loss: 0.2934 - learning_rate: 0.0010\n",
            "Epoch 63/100\n",
            "\u001b[1m1233/1233\u001b[0m \u001b[32m━━━━━━━━━━━━━━━━━━━━\u001b[0m\u001b[37m\u001b[0m \u001b[1m14s\u001b[0m 11ms/step - accuracy: 0.9082 - loss: 0.3755 - val_accuracy: 0.9306 - val_loss: 0.2993 - learning_rate: 0.0010\n",
            "Epoch 64/100\n",
            "\u001b[1m1233/1233\u001b[0m \u001b[32m━━━━━━━━━━━━━━━━━━━━\u001b[0m\u001b[37m\u001b[0m \u001b[1m14s\u001b[0m 11ms/step - accuracy: 0.9085 - loss: 0.3752 - val_accuracy: 0.9250 - val_loss: 0.3272 - learning_rate: 0.0010\n",
            "Epoch 65/100\n",
            "\u001b[1m1233/1233\u001b[0m \u001b[32m━━━━━━━━━━━━━━━━━━━━\u001b[0m\u001b[37m\u001b[0m \u001b[1m14s\u001b[0m 11ms/step - accuracy: 0.9086 - loss: 0.3842 - val_accuracy: 0.9325 - val_loss: 0.3103 - learning_rate: 0.0010\n",
            "Epoch 66/100\n",
            "\u001b[1m1233/1233\u001b[0m \u001b[32m━━━━━━━━━━━━━━━━━━━━\u001b[0m\u001b[37m\u001b[0m \u001b[1m15s\u001b[0m 12ms/step - accuracy: 0.9101 - loss: 0.3795 - val_accuracy: 0.9351 - val_loss: 0.2854 - learning_rate: 0.0010\n",
            "Epoch 67/100\n",
            "\u001b[1m1233/1233\u001b[0m \u001b[32m━━━━━━━━━━━━━━━━━━━━\u001b[0m\u001b[37m\u001b[0m \u001b[1m14s\u001b[0m 11ms/step - accuracy: 0.9060 - loss: 0.3744 - val_accuracy: 0.9309 - val_loss: 0.2933 - learning_rate: 0.0010\n",
            "Epoch 68/100\n",
            "\u001b[1m1233/1233\u001b[0m \u001b[32m━━━━━━━━━━━━━━━━━━━━\u001b[0m\u001b[37m\u001b[0m \u001b[1m14s\u001b[0m 11ms/step - accuracy: 0.9101 - loss: 0.3683 - val_accuracy: 0.9318 - val_loss: 0.2963 - learning_rate: 0.0010\n",
            "Epoch 69/100\n",
            "\u001b[1m1233/1233\u001b[0m \u001b[32m━━━━━━━━━━━━━━━━━━━━\u001b[0m\u001b[37m\u001b[0m \u001b[1m14s\u001b[0m 11ms/step - accuracy: 0.9132 - loss: 0.3730 - val_accuracy: 0.9310 - val_loss: 0.2877 - learning_rate: 0.0010\n",
            "Epoch 70/100\n",
            "\u001b[1m1233/1233\u001b[0m \u001b[32m━━━━━━━━━━━━━━━━━━━━\u001b[0m\u001b[37m\u001b[0m \u001b[1m14s\u001b[0m 12ms/step - accuracy: 0.9081 - loss: 0.3798 - val_accuracy: 0.9332 - val_loss: 0.2868 - learning_rate: 0.0010\n",
            "Epoch 71/100\n",
            "\u001b[1m1233/1233\u001b[0m \u001b[32m━━━━━━━━━━━━━━━━━━━━\u001b[0m\u001b[37m\u001b[0m \u001b[1m13s\u001b[0m 11ms/step - accuracy: 0.9085 - loss: 0.3749 - val_accuracy: 0.9300 - val_loss: 0.3044 - learning_rate: 0.0010\n",
            "Epoch 72/100\n",
            "\u001b[1m1233/1233\u001b[0m \u001b[32m━━━━━━━━━━━━━━━━━━━━\u001b[0m\u001b[37m\u001b[0m \u001b[1m14s\u001b[0m 11ms/step - accuracy: 0.9111 - loss: 0.3728 - val_accuracy: 0.9339 - val_loss: 0.2852 - learning_rate: 0.0010\n",
            "Epoch 73/100\n",
            "\u001b[1m1233/1233\u001b[0m \u001b[32m━━━━━━━━━━━━━━━━━━━━\u001b[0m\u001b[37m\u001b[0m \u001b[1m14s\u001b[0m 11ms/step - accuracy: 0.9116 - loss: 0.3650 - val_accuracy: 0.9322 - val_loss: 0.2862 - learning_rate: 0.0010\n",
            "Epoch 74/100\n",
            "\u001b[1m1233/1233\u001b[0m \u001b[32m━━━━━━━━━━━━━━━━━━━━\u001b[0m\u001b[37m\u001b[0m \u001b[1m14s\u001b[0m 12ms/step - accuracy: 0.9131 - loss: 0.3616 - val_accuracy: 0.9329 - val_loss: 0.2892 - learning_rate: 0.0010\n",
            "Epoch 75/100\n",
            "\u001b[1m1233/1233\u001b[0m \u001b[32m━━━━━━━━━━━━━━━━━━━━\u001b[0m\u001b[37m\u001b[0m \u001b[1m15s\u001b[0m 12ms/step - accuracy: 0.9113 - loss: 0.3664 - val_accuracy: 0.9363 - val_loss: 0.2857 - learning_rate: 0.0010\n",
            "Epoch 76/100\n",
            "\u001b[1m1233/1233\u001b[0m \u001b[32m━━━━━━━━━━━━━━━━━━━━\u001b[0m\u001b[37m\u001b[0m \u001b[1m14s\u001b[0m 11ms/step - accuracy: 0.9109 - loss: 0.3718 - val_accuracy: 0.9354 - val_loss: 0.2756 - learning_rate: 0.0010\n",
            "Epoch 77/100\n",
            "\u001b[1m1233/1233\u001b[0m \u001b[32m━━━━━━━━━━━━━━━━━━━━\u001b[0m\u001b[37m\u001b[0m \u001b[1m14s\u001b[0m 11ms/step - accuracy: 0.9127 - loss: 0.3656 - val_accuracy: 0.9362 - val_loss: 0.2740 - learning_rate: 0.0010\n",
            "Epoch 78/100\n",
            "\u001b[1m1233/1233\u001b[0m \u001b[32m━━━━━━━━━━━━━━━━━━━━\u001b[0m\u001b[37m\u001b[0m \u001b[1m14s\u001b[0m 11ms/step - accuracy: 0.9127 - loss: 0.3656 - val_accuracy: 0.9355 - val_loss: 0.2918 - learning_rate: 0.0010\n",
            "Epoch 79/100\n",
            "\u001b[1m1233/1233\u001b[0m \u001b[32m━━━━━━━━━━━━━━━━━━━━\u001b[0m\u001b[37m\u001b[0m \u001b[1m14s\u001b[0m 11ms/step - accuracy: 0.9151 - loss: 0.3600 - val_accuracy: 0.9367 - val_loss: 0.2877 - learning_rate: 0.0010\n",
            "Epoch 80/100\n",
            "\u001b[1m1233/1233\u001b[0m \u001b[32m━━━━━━━━━━━━━━━━━━━━\u001b[0m\u001b[37m\u001b[0m \u001b[1m14s\u001b[0m 11ms/step - accuracy: 0.9095 - loss: 0.3649 - val_accuracy: 0.9376 - val_loss: 0.2836 - learning_rate: 0.0010\n",
            "Epoch 81/100\n",
            "\u001b[1m1233/1233\u001b[0m \u001b[32m━━━━━━━━━━━━━━━━━━━━\u001b[0m\u001b[37m\u001b[0m \u001b[1m14s\u001b[0m 11ms/step - accuracy: 0.9116 - loss: 0.3613 - val_accuracy: 0.9386 - val_loss: 0.2813 - learning_rate: 0.0010\n",
            "Epoch 82/100\n",
            "\u001b[1m1233/1233\u001b[0m \u001b[32m━━━━━━━━━━━━━━━━━━━━\u001b[0m\u001b[37m\u001b[0m \u001b[1m14s\u001b[0m 11ms/step - accuracy: 0.9112 - loss: 0.3656 - val_accuracy: 0.9340 - val_loss: 0.2903 - learning_rate: 0.0010\n",
            "Epoch 83/100\n",
            "\u001b[1m1233/1233\u001b[0m \u001b[32m━━━━━━━━━━━━━━━━━━━━\u001b[0m\u001b[37m\u001b[0m \u001b[1m14s\u001b[0m 11ms/step - accuracy: 0.9135 - loss: 0.3557 - val_accuracy: 0.9362 - val_loss: 0.2822 - learning_rate: 0.0010\n",
            "Epoch 84/100\n",
            "\u001b[1m1233/1233\u001b[0m \u001b[32m━━━━━━━━━━━━━━━━━━━━\u001b[0m\u001b[37m\u001b[0m \u001b[1m14s\u001b[0m 11ms/step - accuracy: 0.9119 - loss: 0.3615 - val_accuracy: 0.9364 - val_loss: 0.2786 - learning_rate: 0.0010\n",
            "Epoch 85/100\n",
            "\u001b[1m1233/1233\u001b[0m \u001b[32m━━━━━━━━━━━━━━━━━━━━\u001b[0m\u001b[37m\u001b[0m \u001b[1m14s\u001b[0m 11ms/step - accuracy: 0.9149 - loss: 0.3542 - val_accuracy: 0.9345 - val_loss: 0.2921 - learning_rate: 0.0010\n",
            "Epoch 86/100\n",
            "\u001b[1m1233/1233\u001b[0m \u001b[32m━━━━━━━━━━━━━━━━━━━━\u001b[0m\u001b[37m\u001b[0m \u001b[1m14s\u001b[0m 11ms/step - accuracy: 0.9164 - loss: 0.3594 - val_accuracy: 0.9353 - val_loss: 0.2943 - learning_rate: 0.0010\n",
            "Epoch 87/100\n",
            "\u001b[1m1233/1233\u001b[0m \u001b[32m━━━━━━━━━━━━━━━━━━━━\u001b[0m\u001b[37m\u001b[0m \u001b[1m14s\u001b[0m 11ms/step - accuracy: 0.9153 - loss: 0.3646 - val_accuracy: 0.9338 - val_loss: 0.2848 - learning_rate: 0.0010\n"
          ]
        }
      ],
      "source": [
        "# Train the model using the training generator\n",
        "history = model.fit(\n",
        "    X_train, y_train,             # Training data with augmentation\n",
        "    epochs=100,                 # Maximum number of epochs\n",
        "    validation_data=(X_val, y_val),  # Validation data with augmentation\n",
        "    callbacks=[early_stop, reduce_lr],  # Callbacks for early stopping and learning rate adjustment\n",
        "    verbose=1                    # Print progress during training\n",
        ")\n"
      ]
    },
    {
      "cell_type": "code",
      "execution_count": 14,
      "metadata": {},
      "outputs": [
        {
          "name": "stdout",
          "output_type": "stream",
          "text": [
            "\u001b[1m772/772\u001b[0m \u001b[32m━━━━━━━━━━━━━━━━━━━━\u001b[0m\u001b[37m\u001b[0m \u001b[1m3s\u001b[0m 4ms/step - accuracy: 0.9858 - loss: 0.1532\n",
            "Test Accuracy: 0.9766\n"
          ]
        }
      ],
      "source": [
        "# Evaluate the model on the test set\n",
        "test_loss, test_acc = model.evaluate(X_test, y_test)\n",
        "print(f\"Test Accuracy: {test_acc:.4f}\")"
      ]
    },
    {
      "cell_type": "code",
      "execution_count": 15,
      "metadata": {
        "colab": {
          "base_uri": "https://localhost:8080/",
          "height": 407
        },
        "id": "EaEFb2bs8SUF",
        "outputId": "77fdd263-3689-4238-f636-95de7a4013ae"
      },
      "outputs": [
        {
          "data": {
            "image/png": "[encoded data removed]",
            "text/plain": [
              "<Figure size 1000x400 with 2 Axes>"
            ]
          },
          "metadata": {},
          "output_type": "display_data"
        }
      ],
      "source": [
        "\n",
        "train_accuracy = history.history['accuracy']\n",
        "val_accuracy = history.history['val_accuracy']\n",
        "\n",
        "train_loss = history.history['loss']\n",
        "val_loss = history.history['val_loss']\n",
        "\n",
        "# Plot accuracy\n",
        "plt.figure(figsize=(10, 4))\n",
        "plt.subplot(1, 2, 1)\n",
        "plt.plot(train_accuracy, linewidth=0.7, label='Training Accuracy')\n",
        "plt.plot(val_accuracy, linewidth=0.7, label='Validation Accuracy')\n",
        "plt.title('Training and Validation Accuracy')\n",
        "plt.xlabel('Epoch')\n",
        "plt.ylabel('Accuracy')\n",
        "plt.grid()\n",
        "plt.legend()\n",
        "\n",
        "# Plot loss\n",
        "plt.subplot(1, 2, 2)\n",
        "plt.plot(train_loss, linewidth=0.7, label='Training Loss')\n",
        "plt.plot(val_loss, linewidth=0.7, label='Validation Loss')\n",
        "plt.title('Training and Validation Loss')\n",
        "plt.xlabel('Epoch')\n",
        "plt.ylabel('Loss')\n",
        "plt.grid()\n",
        "plt.legend()\n",
        "\n",
        "# Show the plots\n",
        "plt.tight_layout()\n",
        "plt.show()"
      ]
    },
    {
      "cell_type": "code",
      "execution_count": 16,
      "metadata": {
        "colab": {
          "base_uri": "https://localhost:8080/",
          "height": 820
        },
        "id": "gWi4Rp1t8T6O",
        "outputId": "3a1c7642-0621-4915-8453-187062b7d196"
      },
      "outputs": [
        {
          "name": "stdout",
          "output_type": "stream",
          "text": [
            "\u001b[1m772/772\u001b[0m \u001b[32m━━━━━━━━━━━━━━━━━━━━\u001b[0m\u001b[37m\u001b[0m \u001b[1m3s\u001b[0m 4ms/step\n"
          ]
        },
        {
          "data": {
            "image/png": "[encoded data removed]",
            "text/plain": [
              "<Figure size 1000x700 with 2 Axes>"
            ]
          },
          "metadata": {},
          "output_type": "display_data"
        },
        {
          "name": "stdout",
          "output_type": "stream",
          "text": [
            "                        precision    recall  f1-score   support\n",
            "\n",
            "                Normal       0.99      0.99      0.99      5084\n",
            "             AddWeight       1.00      1.00      1.00      4897\n",
            "PropellerDamage_slight       0.94      0.95      0.95      4908\n",
            "   PropellerDamage_bad       0.96      0.96      0.96      4900\n",
            " PressureGain_constant       0.99      0.98      0.99      4904\n",
            "\n",
            "              accuracy                           0.98     24693\n",
            "             macro avg       0.98      0.98      0.98     24693\n",
            "          weighted avg       0.98      0.98      0.98     24693\n",
            "\n"
          ]
        }
      ],
      "source": [
        "\n",
        "# Prediction\n",
        "y_pred = model.predict(X_test)\n",
        "y_pred_classes = np.argmax(y_pred, axis=1)\n",
        "\n",
        "# Confusion Matrix\n",
        "cm = confusion_matrix(y_test, y_pred_classes)\n",
        "\n",
        "plt.figure(figsize=(10, 7))\n",
        "sns.heatmap(cm, annot=True, fmt='d', cmap='Blues')\n",
        "plt.xlabel('Predicted')\n",
        "plt.ylabel('True')\n",
        "plt.show()\n",
        "\n",
        "# Report of classification\n",
        "print(classification_report(y_test, y_pred_classes, target_names=[\n",
        "    'Normal', \n",
        "    'AddWeight', \n",
        "    'PropellerDamage_slight', \n",
        "    'PropellerDamage_bad', \n",
        "    'PressureGain_constant'\n",
        "]))"
      ]
    }
  ],
  "metadata": {
    "colab": {
      "provenance": []
    },
    "kernelspec": {
      "display_name": "Python 3",
      "name": "python3"
    },
    "language_info": {
      "codemirror_mode": {
        "name": "ipython",
        "version": 3
      },
      "file_extension": ".py",
      "mimetype": "text/x-python",
      "name": "python",
      "nbconvert_exporter": "python",
      "pygments_lexer": "ipython3",
      "version": "3.11.10"
    }
  },
  "nbformat": 4,
  "nbformat_minor": 0
}
